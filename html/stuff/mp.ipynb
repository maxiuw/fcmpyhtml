{
 "cells": [
  {
   "cell_type": "markdown",
   "id": "f7acaf05-2f30-4555-b601-41c998889536",
   "metadata": {},
   "source": [
    "# MP Algorithm (gonzalo)\n",
    "## Task: create FCM based on a bunch of data (for classification purposes)\n",
    "\n",
    "For more information about the algorithm, please check out \n",
    "\n",
    "**Deterministic learning of hybrid Fuzzy Cognitive Maps and network\n",
    "reduction approaches**\n",
    "Gonzalo Nápoles, Agnieszka Jastrzębska Carlos Mosquera Koen Vanhoof\n",
    "Władysław Homenda"
   ]
  },
  {
   "cell_type": "code",
   "execution_count": 1,
   "id": "4f185633-96fd-4a3f-9dc7-1fcdabe523e1",
   "metadata": {},
   "outputs": [
    {
     "name": "stdout",
     "output_type": "stream",
     "text": [
      "['fcmpy/data/iris.arff']\n"
     ]
    }
   ],
   "source": [
    "import os\n",
    "sources = []\n",
    "for filename in os.listdir(path='fcmpy/data'):\n",
    "    if filename[-4:] == 'arff':\n",
    "        sources.append('fcmpy/data/'+filename)\n",
    "        \n",
    "print(sources)"
   ]
  },
  {
   "cell_type": "code",
   "execution_count": 2,
   "id": "46f4c845-11d1-4fde-9e70-25e501b8d6ec",
   "metadata": {},
   "outputs": [],
   "source": [
    "import fcmpy.ml.classification.FCM_MP as mp"
   ]
  },
  {
   "cell_type": "code",
   "execution_count": 3,
   "id": "c08ca75d-88e0-4fb2-812c-2424313d9a89",
   "metadata": {},
   "outputs": [
    {
     "name": "stdout",
     "output_type": "stream",
     "text": [
      "Processing fcmpy/data/iris.arff\n",
      "{'b1': '1.00', 'L': 0, 'slope': '1.00', 'h': '1.00', 'train_error': 0.1613202515361981, 'test_error': 0.16131845087352958, 'training_time': 0.0032, 'weights': array([[ 0.87938436, -0.05353936,  1.        ],\n",
      "       [-0.08401687,  0.87938436, -0.57062015],\n",
      "       [ 0.58553838, -0.21291639,  0.87938436]]), 'importance': array([[ 1.        ],\n",
      "       [-0.38801153],\n",
      "       [-0.70008443]])}\n",
      "MSE Average of the model across the 1 datasets: 0.1613\n"
     ]
    }
   ],
   "source": [
    "params = {'L':0, 'M':1,\n",
    "          'T':None, 'b1':1.0, 'folds':10,\n",
    "          'output':'./output.csv', 'p':[1.0, 1.0, 1.0, 1.0],\n",
    "          'rule':0, 'sources':sources, 'verbose':False}\n",
    "out = mp.run(**params)\n"
   ]
  },
  {
   "cell_type": "markdown",
   "id": "1a6c1232-7274-4087-8172-f29083112901",
   "metadata": {},
   "source": [
    "# Resutls \n",
    "Results show the importance of the feautres for the classification task. They can be compare to the ones obtained by the Napoles et. al. Mutliple datasets described in the article, were used to test the functionality of the algorithm."
   ]
  },
  {
   "cell_type": "code",
   "execution_count": 4,
   "id": "4b86c57c-b28b-4e8c-b30d-93e83a8862e3",
   "metadata": {},
   "outputs": [
    {
     "data": {
      "image/png": "[encoded data removed]",
      "text/plain": [
       "<Figure size 720x576 with 1 Axes>"
      ]
     },
     "metadata": {
      "needs_background": "light"
     },
     "output_type": "display_data"
    }
   ],
   "source": [
    "import matplotlib\n",
    "import matplotlib.pylab as plt\n",
    "matplotlib.rcParams.update({'font.size': 19,'font.weight':'normal'})\n",
    "fig, ax = plt.subplots(sharex=False, sharey=True,figsize= (10,8))\n",
    "fig.get_default_bbox_extra_artists\n",
    "k = 0\n",
    "\n",
    "ax.set_title(out[k]['filename'])\n",
    "#     ax.yticks(np.round(np.arange(-1,1.2,0.2).astype(float),2).tolist())\n",
    "ax.bar(range(len(out[0]['weights'][1].flatten())),height=out[k]['weights'][1].flatten())\n",
    "ax.set_xlabel('Feature')\n",
    "ax.set_ylabel('Importance')\n",
    "k+=1\n",
    "\n",
    "# fig, ax = plt.subplots(figsize=(10,8))\n",
    "# ax.bar(range(len(out[3]['importance'].flatten())),height=out[3]['importance'].flatten())\n"
   ]
  }
 ],
 "metadata": {
  "kernelspec": {
   "display_name": "Python 3 (ipykernel)",
   "language": "python",
   "name": "python3"
  },
  "language_info": {
   "codemirror_mode": {
    "name": "ipython",
    "version": 3
   },
   "file_extension": ".py",
   "mimetype": "text/x-python",
   "name": "python",
   "nbconvert_exporter": "python",
   "pygments_lexer": "ipython3",
   "version": "3.8.11"
  }
 },
 "nbformat": 4,
 "nbformat_minor": 5
}
