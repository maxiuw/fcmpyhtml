{
 "cells": [
  {
   "cell_type": "markdown",
   "id": "0998b873-1253-4fc9-a017-b9d1f9a61d1c",
   "metadata": {},
   "source": [
    "# RCGA\n",
    "### Task: create FCM based on one input\n",
    "\n",
    "!['rcga'](figures/gen_alg.png)\n",
    "\n",
    "\n",
    "### Step 1. Crossover \n",
    "- Given two chromosomes and their weights matrixes, we randomly switch n weights between these matrixes \n",
    "- Many crossover methods are available\n",
    "- used with probability of 90%\n",
    "\n",
    "!['crossover'](figures/crossover.png)\n",
    "\n",
    "### Step 2. Mutations\n",
    "Value of randomly chosen weight in the chromosome is being change into new value with the same sign\n",
    "\n",
    "### Step 3. Selection\n",
    "Selection is the stage of a genetic algorithm in which individual genomes are chosen from a population for later breeding (using the crossover operator).\n",
    "\n",
    "\n",
    "**Roulette wheel selection**\n",
    "\n",
    "\n",
    "Selecting with weight probability, depending on the fitness of the individual gene \n",
    "Fitness values [1, 2, 3, 4], then the sum is (1 + 2 + 3 + 4 = 10). Therefore, you would want the probabilities or chances to be [1/10, 2/10, 3/10, 4/10] or [0.1, 0.2, 0.3, 0.4]\n",
    "The chosen one is taken for the crossover \n",
    "\n",
    "\n",
    "**Tournament selection**\n",
    "\n",
    "\n",
    "Winner of the tournament is being selected for the crossover \n",
    "two variants of the selection: with and without replacement\n",
    "\n",
    "### Step 4. Fitness function \n",
    "Fitness is calculated as difference between concept values on each step of the simulation\n",
    "\n",
    "!['crossover'](figures/fitness.png)\n",
    "\n",
    "For more information about the algorithms, please check out **LEARNING AND AGGREGATION OF FUZZY COGNITIVE MAPS – AN\n",
    "EVOLUTIONARY APPROACH**\n",
    "by\n",
    "Wojciech Stach"
   ]
  },
  {
   "cell_type": "code",
   "execution_count": 2,
   "id": "1131aeb0-e172-455c-a602-3aba657b04df",
   "metadata": {},
   "outputs": [],
   "source": [
    "from fcmpy.ml.genetic.rcga import rcga,reshapeW,simulateFCM\n",
    "import numpy as np"
   ]
  },
  {
   "cell_type": "markdown",
   "id": "9315061b-56aa-419e-8fad-350677e0eb33",
   "metadata": {},
   "source": [
    "### 2.2.1 Heart attack risk\n",
    "\n",
    "We used initial FCM presented in the article from arcticle\n",
    "\n",
    "_Fuzzy cognitive map based approach for determining the risk of ischemic stroke Mahsa Khodadadi_ 1, Heidarali Shayanfar 2, Keivan Maghooli 3, Amir Hooshang Mazinan 1\n",
    "\n",
    "https://pubmed.ncbi.nlm.nih.gov/31778126/\n",
    "\n",
    "Do not worry about the empty plot, if you would run it in another IDE, such as VSCode, plot would interactivly display current fitness function  "
   ]
  },
  {
   "cell_type": "code",
   "execution_count": 3,
   "id": "eae1ace0-a90d-4bb1-b220-7534e82c8f88",
   "metadata": {
    "tags": []
   },
   "outputs": [],
   "source": [
    "testc = 7\n",
    "#\n",
    "\n",
    "# test 2\n",
    "nofsteps = 2\n",
    "\n",
    "# go to the paper and create an initial A0 (shape (1,n)\n",
    "# and weight matrix n x n\n",
    "\n",
    "A0 = np.asarray([[0.47, 0.51, 0.13, 0, 1, 0.37, 0.1]])\n",
    "W_init = np.asarray([[0,0,0.20,0.3,0,0,0.45],\n",
    "    [0,0,0,0.40,0,0,0.35],\n",
    "    [0,0,0,0.30,0,0,0.30],\n",
    "    [0,0,0,0,0,0,0.40],\n",
    "    [0.30,0,0.15,0.35,0,0,0.25],\n",
    "    [0.20,0,0.25,0.30,0,0,0.20],\n",
    "    [0,0,0,0,0,0,0]])\n",
    "\n",
    "\n"
   ]
  },
  {
   "cell_type": "code",
   "execution_count": 4,
   "id": "b7b70d0b-5886-49c3-b5d1-555aaade9747",
   "metadata": {},
   "outputs": [],
   "source": [
    "# we reshape weight matrix in such a way that 0 - filled - diagonal is removed and \n",
    "W_init = reshapeW(W_init,'in')\n",
    "\n",
    "# we prepare the placeholder for historical data \n",
    "\n",
    "historicaldata = np.zeros((A0.shape[0],A0.shape[1]))\n",
    "# we prepare the historical data for learning process \n",
    "\n",
    "for concepts,i in zip(A0,range(A0.shape[0])):\n",
    "    historicaldata[i] = simulateFCM(concepts, W_init, nofsteps)\n",
    "    \n"
   ]
  },
  {
   "cell_type": "code",
   "execution_count": 8,
   "id": "60bfa70c-2978-40c3-95a0-dce7d275d76e",
   "metadata": {
    "tags": []
   },
   "outputs": [
    {
     "data": {
      "image/png": "[encoded data removed]",
      "text/plain": [
       "<Figure size 432x288 with 1 Axes>"
      ]
     },
     "metadata": {
      "needs_background": "light"
     },
     "output_type": "display_data"
    },
    {
     "name": "stdout",
     "output_type": "stream",
     "text": [
      "We are at 100/100000\n",
      "max fitness function so far is 0.9384194415841304\n",
      "We are at 200/100000\n",
      "max fitness function so far is 0.9602318603285167\n",
      "We are at 300/100000\n",
      "max fitness function so far is 0.9693515951788356\n",
      "We are at 400/100000\n",
      "max fitness function so far is 0.9893791560991558\n",
      "We are at 500/100000\n",
      "max fitness function so far is 0.989699630403743\n",
      "We are at 600/100000\n",
      "max fitness function so far is 0.9906749185169862\n",
      "We are at 700/100000\n",
      "max fitness function so far is 0.991564899055859\n",
      "We are at 800/100000\n",
      "max fitness function so far is 0.9915790854439447\n",
      "We are at 900/100000\n",
      "max fitness function so far is 0.9924249620397454\n",
      "We are at 1000/100000\n",
      "max fitness function so far is 0.9935814637442107\n",
      "We are at 1100/100000\n",
      "max fitness function so far is 0.9947420775898806\n",
      "We are at 1200/100000\n",
      "max fitness function so far is 0.9947420775898806\n",
      "We are at 1300/100000\n",
      "max fitness function so far is 0.9951155464200782\n",
      "We are at 1400/100000\n",
      "max fitness function so far is 0.9964153246968789\n",
      "We are at 1500/100000\n",
      "max fitness function so far is 0.9964153246968789\n",
      "We are at 1600/100000\n",
      "max fitness function so far is 0.9967833800326337\n",
      "We are at 1700/100000\n",
      "max fitness function so far is 0.996836752174848\n",
      "We are at 1800/100000\n",
      "max fitness function so far is 0.996836752174848\n",
      "We are at 1900/100000\n",
      "max fitness function so far is 0.996836752174848\n",
      "We are at 2000/100000\n",
      "max fitness function so far is 0.996836752174848\n",
      "We are at 2100/100000\n",
      "max fitness function so far is 0.9970383687426752\n",
      "We are at 2200/100000\n",
      "max fitness function so far is 0.9970383687426752\n",
      "We are at 2300/100000\n",
      "max fitness function so far is 0.9970383687426752\n",
      "We are at 2400/100000\n",
      "max fitness function so far is 0.9975739002745325\n",
      "We are at 2500/100000\n",
      "max fitness function so far is 0.9975739002745325\n",
      "We are at 2600/100000\n",
      "max fitness function so far is 0.9975739002745325\n",
      "We are at 2700/100000\n",
      "max fitness function so far is 0.9977068420882351\n",
      "We are at 2800/100000\n",
      "max fitness function so far is 0.9977068420882351\n",
      "We are at 2900/100000\n",
      "max fitness function so far is 0.9977068420882351\n",
      "We are at 3000/100000\n",
      "max fitness function so far is 0.9977068420882351\n",
      "We are at 3100/100000\n",
      "max fitness function so far is 0.9977068420882351\n",
      "We are at 3200/100000\n",
      "max fitness function so far is 0.9981504272582912\n",
      "We are at 3300/100000\n",
      "max fitness function so far is 0.9981504272582912\n",
      "We are at 3400/100000\n",
      "max fitness function so far is 0.998829799544848\n",
      "We are at 3500/100000\n",
      "max fitness function so far is 0.998829799544848\n"
     ]
    }
   ],
   "source": [
    "# run the learning algorithm\n",
    "%%capture\n",
    "GA = rcga(A0,historicaldata=historicaldata,numberofsteps=nofsteps)\n",
    "W_final = GA.run()\n"
   ]
  }
 ],
 "metadata": {
  "kernelspec": {
   "display_name": "Python 3 (ipykernel)",
   "language": "python",
   "name": "python3"
  },
  "language_info": {
   "codemirror_mode": {
    "name": "ipython",
    "version": 3
   },
   "file_extension": ".py",
   "mimetype": "text/x-python",
   "name": "python",
   "nbconvert_exporter": "python",
   "pygments_lexer": "ipython3",
   "version": "3.8.11"
  }
 },
 "nbformat": 4,
 "nbformat_minor": 5
}
