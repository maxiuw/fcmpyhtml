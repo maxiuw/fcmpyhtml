{
 "cells": [
  {
   "cell_type": "markdown",
   "id": "645864de-f4b8-40ed-869f-a32c89cc614e",
   "metadata": {},
   "source": [
    "# Running FCM simulation"
   ]
  },
  {
   "cell_type": "code",
   "execution_count": 1,
   "id": "0c4e23d7-ec6a-4cb9-a947-e8d54077be72",
   "metadata": {},
   "outputs": [],
   "source": [
    "import numpy as np\n",
    "import matplotlib.pylab as plt\n",
    "import seaborn as sns \n",
    "from fcmpy.simulator.transfer import Sigmoid, Bivalent, Trivalent, HyperbolicTangent\n",
    "import os \n",
    "import pandas as pd\n",
    "from fcmpy import ExpertFcm, FcmSimulator, FcmIntervention \n"
   ]
  },
  {
   "cell_type": "markdown",
   "id": "e52d1c5f-fe60-4b1c-b536-c0903b1e927d",
   "metadata": {},
   "source": [
    "### Run simulations on top of a defined FCM structure\n",
    "\n",
    "In this example we will replicate the case presented in the fcm inference package in R by Dikopoulou & Papageorgiou\n",
    "\n",
    "* Instantiate and FcmSimulator class\n",
    "* Define the FCM structure\n"
   ]
  },
  {
   "cell_type": "code",
   "execution_count": 2,
   "id": "cf15a0e4-1253-4f02-acc6-a5564aa4aaa5",
   "metadata": {},
   "outputs": [],
   "source": [
    "# define a simulator \n",
    "sim = FcmSimulator()\n"
   ]
  },
  {
   "cell_type": "code",
   "execution_count": 3,
   "id": "fc65f981-2d0d-4607-b357-aab766bb071b",
   "metadata": {},
   "outputs": [],
   "source": [
    "# use the data belwo for the simulation\n",
    "\n",
    "C1 = [0.0, 0.0, 0.6, 0.9, 0.0, 0.0, 0.0, 0.8]\n",
    "C2 = [0.1, 0.0, 0.0, 0.0, 0.0, 0.0, 0.2, 0.5]\n",
    "C3 = [0.0, 0.7, 0.0, 0.0, 0.9, 0.0, 0.4, 0.1]\n",
    "C4 = [0.4, 0.0, 0.0, 0.0, 0.0, 0.9, 0.0, 0.0]\n",
    "C5 = [0.0, 0.0, 0.0, 0.0, 0.0, -0.9, 0.0, 0.3]\n",
    "C6 = [-0.3, 0.0, 0.0, 0.0, 0.0, 0.0, 0.0, 0.0]\n",
    "C7 = [0.0, 0.0, 0.0, 0.0, 0.0, 0.8, 0.4, 0.9]\n",
    "C8 =[0.1, 0.0, 0.0, 0.0, 0.0, 0.1, 0.6, 0.0]"
   ]
  },
  {
   "cell_type": "code",
   "execution_count": 4,
   "id": "71d98dd0-3dc2-4916-8d9e-99b48383a7f2",
   "metadata": {},
   "outputs": [],
   "source": [
    "weight_matrix = pd.DataFrame([C1,C2, C3, C4, C5, C6, C7, C8], \n",
    "                    columns=['C1','C2','C3','C4','C5','C6','C7','C8'])"
   ]
  },
  {
   "cell_type": "code",
   "execution_count": 5,
   "id": "1d11fd79-c256-4a63-98b0-aafe6d93e6aa",
   "metadata": {},
   "outputs": [],
   "source": [
    "# define initial state of the vector as [1,1,0,0,0,0,0,0] for C1 to C8 as dictionary \n",
    "init_state = {'C1': 1, 'C2': 1, 'C3': 0, 'C4': 0, 'C5': 0,\n",
    "                    'C6': 0, 'C7': 0, 'C8': 0}"
   ]
  },
  {
   "cell_type": "markdown",
   "id": "2fd60b04-8766-402e-b142-472b6636c8d2",
   "metadata": {},
   "source": [
    "# Simulate\n",
    "\n",
    "Here we run a simulation on top of the defined FCM structure using the sigmoid transfer function and the modified Kosko's inference method. The simulation will run $50$ iterations and will stop if the absolute difference between the concept values between the simulation steps is $\\leq 0.001$. The steepness parameter for the sigmoid function is set to $1$."
   ]
  },
  {
   "cell_type": "code",
   "execution_count": 6,
   "id": "e6314ef2-0e23-4341-801e-fd4a3102648e",
   "metadata": {},
   "outputs": [
    {
     "name": "stdout",
     "output_type": "stream",
     "text": [
      "The values converged in the 7 state (e <= 0.001)\n"
     ]
    }
   ],
   "source": [
    "res_mK = sim.simulate(initial_state=init_state, weight_matrix=weight_matrix, transfer='sigmoid', inference='mKosko', thresh=0.001, iterations=50, l=1)\n"
   ]
  },
  {
   "cell_type": "markdown",
   "id": "be5d7838-001d-4dbc-b88e-77fa35e4e7b8",
   "metadata": {},
   "source": [
    "# Inspect the output"
   ]
  },
  {
   "cell_type": "code",
   "execution_count": 7,
   "id": "902caa9b-2bd3-4c78-a056-7a7d8441d3b6",
   "metadata": {},
   "outputs": [
    {
     "data": {
      "text/html": [
       "<div>\n",
       "<style scoped>\n",
       "    .dataframe tbody tr th:only-of-type {\n",
       "        vertical-align: middle;\n",
       "    }\n",
       "\n",
       "    .dataframe tbody tr th {\n",
       "        vertical-align: top;\n",
       "    }\n",
       "\n",
       "    .dataframe thead th {\n",
       "        text-align: right;\n",
       "    }\n",
       "</style>\n",
       "<table border=\"1\" class=\"dataframe\">\n",
       "  <thead>\n",
       "    <tr style=\"text-align: right;\">\n",
       "      <th></th>\n",
       "      <th>C1</th>\n",
       "      <th>C2</th>\n",
       "      <th>C3</th>\n",
       "      <th>C4</th>\n",
       "      <th>C5</th>\n",
       "      <th>C6</th>\n",
       "      <th>C7</th>\n",
       "      <th>C8</th>\n",
       "    </tr>\n",
       "  </thead>\n",
       "  <tbody>\n",
       "    <tr>\n",
       "      <th>0</th>\n",
       "      <td>1.000000</td>\n",
       "      <td>1.000000</td>\n",
       "      <td>0.000000</td>\n",
       "      <td>0.000000</td>\n",
       "      <td>0.000000</td>\n",
       "      <td>0.000000</td>\n",
       "      <td>0.000000</td>\n",
       "      <td>0.000000</td>\n",
       "    </tr>\n",
       "    <tr>\n",
       "      <th>1</th>\n",
       "      <td>0.750260</td>\n",
       "      <td>0.731059</td>\n",
       "      <td>0.645656</td>\n",
       "      <td>0.710950</td>\n",
       "      <td>0.500000</td>\n",
       "      <td>0.500000</td>\n",
       "      <td>0.549834</td>\n",
       "      <td>0.785835</td>\n",
       "    </tr>\n",
       "    <tr>\n",
       "      <th>2</th>\n",
       "      <td>0.738141</td>\n",
       "      <td>0.765490</td>\n",
       "      <td>0.749475</td>\n",
       "      <td>0.799982</td>\n",
       "      <td>0.746700</td>\n",
       "      <td>0.769999</td>\n",
       "      <td>0.838315</td>\n",
       "      <td>0.921361</td>\n",
       "    </tr>\n",
       "    <tr>\n",
       "      <th>3</th>\n",
       "      <td>0.730236</td>\n",
       "      <td>0.784168</td>\n",
       "      <td>0.767163</td>\n",
       "      <td>0.812191</td>\n",
       "      <td>0.805531</td>\n",
       "      <td>0.829309</td>\n",
       "      <td>0.898379</td>\n",
       "      <td>0.950172</td>\n",
       "    </tr>\n",
       "    <tr>\n",
       "      <th>4</th>\n",
       "      <td>0.727059</td>\n",
       "      <td>0.789378</td>\n",
       "      <td>0.769467</td>\n",
       "      <td>0.812967</td>\n",
       "      <td>0.816974</td>\n",
       "      <td>0.838759</td>\n",
       "      <td>0.908173</td>\n",
       "      <td>0.954927</td>\n",
       "    </tr>\n",
       "    <tr>\n",
       "      <th>5</th>\n",
       "      <td>0.726125</td>\n",
       "      <td>0.790510</td>\n",
       "      <td>0.769538</td>\n",
       "      <td>0.812650</td>\n",
       "      <td>0.818986</td>\n",
       "      <td>0.839860</td>\n",
       "      <td>0.909707</td>\n",
       "      <td>0.955666</td>\n",
       "    </tr>\n",
       "    <tr>\n",
       "      <th>6</th>\n",
       "      <td>0.725885</td>\n",
       "      <td>0.790706</td>\n",
       "      <td>0.769451</td>\n",
       "      <td>0.812473</td>\n",
       "      <td>0.819294</td>\n",
       "      <td>0.839901</td>\n",
       "      <td>0.909940</td>\n",
       "      <td>0.955774</td>\n",
       "    </tr>\n",
       "  </tbody>\n",
       "</table>\n",
       "</div>"
      ],
      "text/plain": [
       "         C1        C2        C3        C4        C5        C6        C7  \\\n",
       "0  1.000000  1.000000  0.000000  0.000000  0.000000  0.000000  0.000000   \n",
       "1  0.750260  0.731059  0.645656  0.710950  0.500000  0.500000  0.549834   \n",
       "2  0.738141  0.765490  0.749475  0.799982  0.746700  0.769999  0.838315   \n",
       "3  0.730236  0.784168  0.767163  0.812191  0.805531  0.829309  0.898379   \n",
       "4  0.727059  0.789378  0.769467  0.812967  0.816974  0.838759  0.908173   \n",
       "5  0.726125  0.790510  0.769538  0.812650  0.818986  0.839860  0.909707   \n",
       "6  0.725885  0.790706  0.769451  0.812473  0.819294  0.839901  0.909940   \n",
       "\n",
       "         C8  \n",
       "0  0.000000  \n",
       "1  0.785835  \n",
       "2  0.921361  \n",
       "3  0.950172  \n",
       "4  0.954927  \n",
       "5  0.955666  \n",
       "6  0.955774  "
      ]
     },
     "execution_count": 7,
     "metadata": {},
     "output_type": "execute_result"
    }
   ],
   "source": [
    "res_mK"
   ]
  },
  {
   "cell_type": "markdown",
   "id": "39aac1e7-165b-4948-b732-07933c29d57f",
   "metadata": {},
   "source": [
    "# make an intervention \n",
    "Here we will use the same initial state and the weight matrix defined in the previous example.\n",
    "Let's first create an instance of the FcmIntervention class. To do so we need to pass an fcmpy Simulator object.\n",
    "\n",
    " Here we just run a simulation on top of the a defined FCM (where no intervention exists) with a given vector of initial conditions. The baseline of comparison is the derived equilibrium states of the concepts in the FCM.\n",
    "\n",
    "Now we can specify the interventions that we want to test.\n",
    "Let's consider three such hypothetical interventions we wish to test in our FCM. The first intervention targets concepts (nodes) C1 and C2. It negatively impacts concept C1 (-.3) while positively impacting the concept C2 (.5). We consider a case where the intervention has maximum effectiveness (1). The other two interventions follow the same logic but impact other nodes (see below). "
   ]
  },
  {
   "cell_type": "code",
   "execution_count": 8,
   "id": "9068eb6d-d1f2-404f-8482-5b4a30b236bd",
   "metadata": {},
   "outputs": [
    {
     "name": "stdout",
     "output_type": "stream",
     "text": [
      "The values converged in the 7 state (e <= 0.001)\n"
     ]
    }
   ],
   "source": [
    "# initialize the intervention object \n",
    "inter = FcmIntervention(FcmSimulator)\n",
    "# intialize the intervention \n",
    "inter.initialize(initial_state=init_state, weight_matrix=weight_matrix, \n",
    "                        transfer='sigmoid', inference='mKosko', thresh=0.001, iterations=50, l=1)\n",
    "# run the simulation using the intervention\n",
    "inter.add_intervention('intervention_1', impact={'C1':-.3, 'C2' : .5}, effectiveness=1)"
   ]
  },
  {
   "cell_type": "code",
   "execution_count": 9,
   "id": "6676440b-fffd-43bc-93ae-5585a449e2cf",
   "metadata": {},
   "outputs": [
    {
     "name": "stdout",
     "output_type": "stream",
     "text": [
      "The values converged in the 6 state (e <= 0.001)\n"
     ]
    }
   ],
   "source": [
    "inter.test_intervention('intervention_1')"
   ]
  },
  {
   "cell_type": "code",
   "execution_count": 10,
   "id": "8d2f30bf-dde2-47cd-83cb-8f6a2c0a0423",
   "metadata": {},
   "outputs": [
    {
     "data": {
      "text/html": [
       "<div>\n",
       "<style scoped>\n",
       "    .dataframe tbody tr th:only-of-type {\n",
       "        vertical-align: middle;\n",
       "    }\n",
       "\n",
       "    .dataframe tbody tr th {\n",
       "        vertical-align: top;\n",
       "    }\n",
       "\n",
       "    .dataframe thead th {\n",
       "        text-align: right;\n",
       "    }\n",
       "</style>\n",
       "<table border=\"1\" class=\"dataframe\">\n",
       "  <thead>\n",
       "    <tr style=\"text-align: right;\">\n",
       "      <th></th>\n",
       "      <th>C1</th>\n",
       "      <th>C2</th>\n",
       "      <th>C3</th>\n",
       "      <th>C4</th>\n",
       "      <th>C5</th>\n",
       "      <th>C6</th>\n",
       "      <th>C7</th>\n",
       "      <th>C8</th>\n",
       "      <th>intervention</th>\n",
       "    </tr>\n",
       "  </thead>\n",
       "  <tbody>\n",
       "    <tr>\n",
       "      <th>0</th>\n",
       "      <td>0.725885</td>\n",
       "      <td>0.790706</td>\n",
       "      <td>0.769451</td>\n",
       "      <td>0.812473</td>\n",
       "      <td>0.819294</td>\n",
       "      <td>0.839901</td>\n",
       "      <td>0.909940</td>\n",
       "      <td>0.955774</td>\n",
       "      <td>1.0</td>\n",
       "    </tr>\n",
       "    <tr>\n",
       "      <th>1</th>\n",
       "      <td>0.662298</td>\n",
       "      <td>0.861681</td>\n",
       "      <td>0.769410</td>\n",
       "      <td>0.812414</td>\n",
       "      <td>0.819328</td>\n",
       "      <td>0.839874</td>\n",
       "      <td>0.909973</td>\n",
       "      <td>0.955787</td>\n",
       "      <td>1.0</td>\n",
       "    </tr>\n",
       "    <tr>\n",
       "      <th>2</th>\n",
       "      <td>0.649547</td>\n",
       "      <td>0.869922</td>\n",
       "      <td>0.762564</td>\n",
       "      <td>0.803526</td>\n",
       "      <td>0.819327</td>\n",
       "      <td>0.839863</td>\n",
       "      <td>0.911132</td>\n",
       "      <td>0.955134</td>\n",
       "      <td>1.0</td>\n",
       "    </tr>\n",
       "    <tr>\n",
       "      <th>3</th>\n",
       "      <td>0.646000</td>\n",
       "      <td>0.870312</td>\n",
       "      <td>0.759929</td>\n",
       "      <td>0.800292</td>\n",
       "      <td>0.818413</td>\n",
       "      <td>0.838899</td>\n",
       "      <td>0.911143</td>\n",
       "      <td>0.954860</td>\n",
       "      <td>1.0</td>\n",
       "    </tr>\n",
       "    <tr>\n",
       "      <th>4</th>\n",
       "      <td>0.644962</td>\n",
       "      <td>0.870147</td>\n",
       "      <td>0.759059</td>\n",
       "      <td>0.799263</td>\n",
       "      <td>0.817925</td>\n",
       "      <td>0.838484</td>\n",
       "      <td>0.911052</td>\n",
       "      <td>0.954712</td>\n",
       "      <td>1.0</td>\n",
       "    </tr>\n",
       "    <tr>\n",
       "      <th>5</th>\n",
       "      <td>0.644651</td>\n",
       "      <td>0.870060</td>\n",
       "      <td>0.758786</td>\n",
       "      <td>0.798947</td>\n",
       "      <td>0.817735</td>\n",
       "      <td>0.838350</td>\n",
       "      <td>0.911004</td>\n",
       "      <td>0.954652</td>\n",
       "      <td>1.0</td>\n",
       "    </tr>\n",
       "  </tbody>\n",
       "</table>\n",
       "</div>"
      ],
      "text/plain": [
       "         C1        C2        C3        C4        C5        C6        C7  \\\n",
       "0  0.725885  0.790706  0.769451  0.812473  0.819294  0.839901  0.909940   \n",
       "1  0.662298  0.861681  0.769410  0.812414  0.819328  0.839874  0.909973   \n",
       "2  0.649547  0.869922  0.762564  0.803526  0.819327  0.839863  0.911132   \n",
       "3  0.646000  0.870312  0.759929  0.800292  0.818413  0.838899  0.911143   \n",
       "4  0.644962  0.870147  0.759059  0.799263  0.817925  0.838484  0.911052   \n",
       "5  0.644651  0.870060  0.758786  0.798947  0.817735  0.838350  0.911004   \n",
       "\n",
       "         C8  intervention  \n",
       "0  0.955774           1.0  \n",
       "1  0.955787           1.0  \n",
       "2  0.955134           1.0  \n",
       "3  0.954860           1.0  \n",
       "4  0.954712           1.0  \n",
       "5  0.954652           1.0  "
      ]
     },
     "execution_count": 10,
     "metadata": {},
     "output_type": "execute_result"
    }
   ],
   "source": [
    "inter.test_results['intervention_1']"
   ]
  }
 ],
 "metadata": {
  "kernelspec": {
   "display_name": "Python 3 (ipykernel)",
   "language": "python",
   "name": "python3"
  },
  "language_info": {
   "codemirror_mode": {
    "name": "ipython",
    "version": 3
   },
   "file_extension": ".py",
   "mimetype": "text/x-python",
   "name": "python",
   "nbconvert_exporter": "python",
   "pygments_lexer": "ipython3",
   "version": "3.8.11"
  }
 },
 "nbformat": 4,
 "nbformat_minor": 5
}
